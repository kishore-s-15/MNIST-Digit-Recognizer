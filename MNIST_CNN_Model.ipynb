{
 "cells": [
  {
   "cell_type": "code",
   "execution_count": 58,
   "metadata": {
    "colab": {
     "base_uri": "https://localhost:8080/",
     "height": 34
    },
    "colab_type": "code",
    "id": "uBWQJ7YDJIx3",
    "outputId": "fea19a72-6ecc-4be5-fc38-149e02002f10"
   },
   "outputs": [
    {
     "name": "stdout",
     "output_type": "stream",
     "text": [
      "Tensorflow version =  2.2.0-rc2\n"
     ]
    }
   ],
   "source": [
    "# Importing the required libraries\n",
    "\n",
    "# For Data Manipulation\n",
    "import numpy as np\n",
    "import pandas as pd\n",
    "\n",
    "# For Loading the data and train_test_split\n",
    "from data_utils import load_data, load_labels\n",
    "from sklearn.model_selection import train_test_split\n",
    "\n",
    "# CNN Model\n",
    "import tensorflow as tf\n",
    "from tensorflow.keras.optimizers import Adam\n",
    "from tensorflow.keras.models import Sequential, load_model\n",
    "from tensorflow.keras.preprocessing.image import ImageDataGenerator\n",
    "from tensorflow.keras.callbacks import TensorBoard, ReduceLROnPlateau, CSVLogger\n",
    "from tensorflow.keras.layers import Conv2D, MaxPooling2D, Dense, Dropout, Flatten, BatchNormalization\n",
    "\n",
    "# print(\"Tensorflow version = \", tf.__version__)"
   ]
  },
  {
   "cell_type": "code",
   "execution_count": 0,
   "metadata": {
    "colab": {},
    "colab_type": "code",
    "id": "4jKy8VBMJKbV"
   },
   "outputs": [],
   "source": [
    "# Loading the training data\n",
    "train_data = load_data(r\"data/train-images-idx3-ubyte.gz\")\n",
    "\n",
    "# Loading the training labels\n",
    "train_labels = load_labels(r\"data/train-labels-idx1-ubyte.gz\")\n",
    "\n",
    "# Loading the testing data\n",
    "test_data = load_data(r\"data/t10k-images-idx3-ubyte.gz\")\n",
    "\n",
    "# Loading the testing labels\n",
    "test_labels = load_labels(r\"data/t10k-labels-idx1-ubyte.gz\")"
   ]
  },
  {
   "cell_type": "code",
   "execution_count": 28,
   "metadata": {
    "colab": {
     "base_uri": "https://localhost:8080/",
     "height": 84
    },
    "colab_type": "code",
    "id": "tcSwZTBMJL2V",
    "outputId": "66722ed8-bc1f-4dd6-fc6a-a52be5278d40"
   },
   "outputs": [
    {
     "name": "stdout",
     "output_type": "stream",
     "text": [
      "Train Data Shape =  (60000, 28, 28, 1)\n",
      "Train Labels Shape =  (60000,)\n",
      "Test Data Shape =  (10000, 28, 28, 1)\n",
      "Test Labels Shape =  (10000,)\n"
     ]
    }
   ],
   "source": [
    "# Printing the shapes of the data and labels\n",
    "print(\"Train Data Shape = \", train_data.shape)\n",
    "print(\"Train Labels Shape = \", train_labels.shape)\n",
    "\n",
    "print(\"Test Data Shape = \", test_data.shape)\n",
    "print(\"Test Labels Shape = \", test_labels.shape)"
   ]
  },
  {
   "cell_type": "code",
   "execution_count": 0,
   "metadata": {
    "colab": {},
    "colab_type": "code",
    "id": "3YatgCMbJMz0"
   },
   "outputs": [],
   "source": [
    "# For Label Encoding\n",
    "train_labels = pd.get_dummies(train_labels).values\n",
    "test_labels = pd.get_dummies(test_labels).values"
   ]
  },
  {
   "cell_type": "code",
   "execution_count": 30,
   "metadata": {
    "colab": {
     "base_uri": "https://localhost:8080/",
     "height": 84
    },
    "colab_type": "code",
    "id": "H9edJxaqJ99s",
    "outputId": "e67ba26f-cbad-4b7d-a117-9b683baef587"
   },
   "outputs": [
    {
     "name": "stdout",
     "output_type": "stream",
     "text": [
      "X_Train Data Shape =  (51000, 28, 28, 1)\n",
      "X_Train Labels Shape =  (51000, 10)\n",
      "X_Val Data Shape =  (9000, 28, 28, 1)\n",
      "Y_Val Labels Shape =  (9000, 10)\n"
     ]
    }
   ],
   "source": [
    "# Splitting the training into training and validation data\n",
    "x_train, x_val, y_train, y_val = train_test_split(train_data, train_labels, test_size = 0.15)\n",
    "\n",
    "# Printing the shapes of data and labels\n",
    "print(\"X_Train Data Shape = \", x_train.shape)\n",
    "print(\"X_Train Labels Shape = \", y_train.shape)\n",
    "\n",
    "print(\"X_Val Data Shape = \", x_val.shape)\n",
    "print(\"Y_Val Labels Shape = \", y_val.shape)"
   ]
  },
  {
   "cell_type": "code",
   "execution_count": 0,
   "metadata": {
    "colab": {},
    "colab_type": "code",
    "id": "ATUmzl1qKAU1"
   },
   "outputs": [],
   "source": [
    "# CNN Model\n",
    "model = Sequential()\n",
    "\n",
    "model.add(Conv2D(filters = 32, kernel_size = 3, padding = \"same\", activation = \"relu\", input_shape = (28, 28, 1)))\n",
    "model.add(Conv2D(filters = 64, kernel_size = 3, padding = \"same\", activation = \"relu\"))\n",
    "model.add(MaxPooling2D(pool_size = (2, 2), strides = (2, 2)))\n",
    "model.add(BatchNormalization())\n",
    "model.add(Dropout(rate = 0.4))\n",
    "\n",
    "model.add(Conv2D(filters = 128, kernel_size = 3, padding = \"same\", activation = \"relu\"))\n",
    "model.add(Conv2D(filters = 256, kernel_size = 3, padding = \"same\", activation = \"relu\"))\n",
    "model.add(MaxPooling2D(pool_size = (2, 2), strides = (2, 2)))\n",
    "model.add(BatchNormalization())\n",
    "model.add(Dropout(rate = 0.4))\n",
    "\n",
    "model.add(Conv2D(filters = 128, kernel_size = 3, padding = \"same\", activation = \"relu\"))\n",
    "model.add(Conv2D(filters = 64, kernel_size = 3, padding = \"same\", activation = \"relu\"))\n",
    "model.add(MaxPooling2D(pool_size = (2, 2), strides = (2, 2)))\n",
    "model.add(BatchNormalization())\n",
    "model.add(Dropout(rate = 0.4))\n",
    "\n",
    "model.add(Conv2D(filters = 32, kernel_size = 3, padding = \"same\", activation = \"relu\"))\n",
    "model.add(Dropout(rate = 0.4))\n",
    "\n",
    "model.add(Flatten())\n",
    "\n",
    "model.add(Dense(units = 128, activation = \"relu\"))\n",
    "model.add(Dense(units = 64, activation = \"relu\"))\n",
    "model.add(Dense(units = 32, activation = \"relu\"))\n",
    "\n",
    "model.add(Dense(units = 10, activation = \"softmax\"))"
   ]
  },
  {
   "cell_type": "code",
   "execution_count": 0,
   "metadata": {
    "colab": {},
    "colab_type": "code",
    "id": "N7a3b-YyKBm1"
   },
   "outputs": [],
   "source": [
    "# Optimizer\n",
    "optimizer = Adam(lr = 0.001)"
   ]
  },
  {
   "cell_type": "code",
   "execution_count": 0,
   "metadata": {
    "colab": {},
    "colab_type": "code",
    "id": "x_Qc-M0JKDoG"
   },
   "outputs": [],
   "source": [
    "# Compiling the Model\n",
    "model.compile(optimizer = optimizer, loss = \"categorical_crossentropy\", metrics = ['accuracy'])"
   ]
  },
  {
   "cell_type": "code",
   "execution_count": 51,
   "metadata": {
    "colab": {
     "base_uri": "https://localhost:8080/",
     "height": 890
    },
    "colab_type": "code",
    "id": "GkIYbW-UKEnV",
    "outputId": "35cb04f7-f359-481e-a519-fede08302ff6"
   },
   "outputs": [
    {
     "name": "stdout",
     "output_type": "stream",
     "text": [
      "Model: \"sequential_3\"\n",
      "_________________________________________________________________\n",
      "Layer (type)                 Output Shape              Param #   \n",
      "=================================================================\n",
      "conv2d_21 (Conv2D)           (None, 28, 28, 32)        320       \n",
      "_________________________________________________________________\n",
      "conv2d_22 (Conv2D)           (None, 28, 28, 64)        18496     \n",
      "_________________________________________________________________\n",
      "max_pooling2d_9 (MaxPooling2 (None, 14, 14, 64)        0         \n",
      "_________________________________________________________________\n",
      "batch_normalization_9 (Batch (None, 14, 14, 64)        256       \n",
      "_________________________________________________________________\n",
      "dropout_12 (Dropout)         (None, 14, 14, 64)        0         \n",
      "_________________________________________________________________\n",
      "conv2d_23 (Conv2D)           (None, 14, 14, 128)       73856     \n",
      "_________________________________________________________________\n",
      "conv2d_24 (Conv2D)           (None, 14, 14, 256)       295168    \n",
      "_________________________________________________________________\n",
      "max_pooling2d_10 (MaxPooling (None, 7, 7, 256)         0         \n",
      "_________________________________________________________________\n",
      "batch_normalization_10 (Batc (None, 7, 7, 256)         1024      \n",
      "_________________________________________________________________\n",
      "dropout_13 (Dropout)         (None, 7, 7, 256)         0         \n",
      "_________________________________________________________________\n",
      "conv2d_25 (Conv2D)           (None, 7, 7, 128)         295040    \n",
      "_________________________________________________________________\n",
      "conv2d_26 (Conv2D)           (None, 7, 7, 64)          73792     \n",
      "_________________________________________________________________\n",
      "max_pooling2d_11 (MaxPooling (None, 3, 3, 64)          0         \n",
      "_________________________________________________________________\n",
      "batch_normalization_11 (Batc (None, 3, 3, 64)          256       \n",
      "_________________________________________________________________\n",
      "dropout_14 (Dropout)         (None, 3, 3, 64)          0         \n",
      "_________________________________________________________________\n",
      "conv2d_27 (Conv2D)           (None, 3, 3, 32)          18464     \n",
      "_________________________________________________________________\n",
      "dropout_15 (Dropout)         (None, 3, 3, 32)          0         \n",
      "_________________________________________________________________\n",
      "flatten_3 (Flatten)          (None, 288)               0         \n",
      "_________________________________________________________________\n",
      "dense_12 (Dense)             (None, 128)               36992     \n",
      "_________________________________________________________________\n",
      "dense_13 (Dense)             (None, 64)                8256      \n",
      "_________________________________________________________________\n",
      "dense_14 (Dense)             (None, 32)                2080      \n",
      "_________________________________________________________________\n",
      "dense_15 (Dense)             (None, 10)                330       \n",
      "=================================================================\n",
      "Total params: 824,330\n",
      "Trainable params: 823,562\n",
      "Non-trainable params: 768\n",
      "_________________________________________________________________\n"
     ]
    }
   ],
   "source": [
    "# Model Summary\n",
    "model.summary()"
   ]
  },
  {
   "cell_type": "code",
   "execution_count": 0,
   "metadata": {
    "colab": {},
    "colab_type": "code",
    "id": "sGDx5wLRKFzm"
   },
   "outputs": [],
   "source": [
    "# Callbacks\n",
    "tensorboard = TensorBoard(log_dir = \"logs\", histogram_freq = 1)\n",
    "\n",
    "csvlogger = CSVLogger(\"training/training_log.csv\")\n",
    "\n",
    "reduce_lr = ReduceLROnPlateau(monitor = \"val_loss\", factor = 0.1, patience = 3, verbose = 1, min_lr = 1e-4)"
   ]
  },
  {
   "cell_type": "code",
   "execution_count": 0,
   "metadata": {
    "colab": {},
    "colab_type": "code",
    "id": "wkYJgJSIKHM2"
   },
   "outputs": [],
   "source": [
    "# Image Data Generator\n",
    "datagen = ImageDataGenerator(rotation_range = 20, width_shift_range = 0.2, height_shift_range = 0.2, brightness_range = [0.1, 0.15], shear_range = 0.2, zoom_range = 0.15)\n",
    "\n",
    "datagen.fit(x_train)"
   ]
  },
  {
   "cell_type": "code",
   "execution_count": 0,
   "metadata": {
    "colab": {},
    "colab_type": "code",
    "id": "12YeF9-lMw21"
   },
   "outputs": [],
   "source": [
    "# Hyperparameters\n",
    "BATCH_SIZE = 32\n",
    "EPOCHS = 15"
   ]
  },
  {
   "cell_type": "code",
   "execution_count": 55,
   "metadata": {
    "colab": {
     "base_uri": "https://localhost:8080/",
     "height": 588
    },
    "colab_type": "code",
    "id": "9TfZDKaEMyA1",
    "outputId": "a6e0a18f-3145-4609-f161-b7f9f2bab032"
   },
   "outputs": [
    {
     "name": "stdout",
     "output_type": "stream",
     "text": [
      "Epoch 1/15\n",
      "1594/1593 [==============================] - 35s 22ms/step - loss: 0.5446 - accuracy: 0.8193 - val_loss: 0.2938 - val_accuracy: 0.9594 - lr: 0.0010\n",
      "Epoch 2/15\n",
      "1594/1593 [==============================] - 35s 22ms/step - loss: 0.1602 - accuracy: 0.9551 - val_loss: 0.4553 - val_accuracy: 0.9477 - lr: 0.0010\n",
      "Epoch 3/15\n",
      "1594/1593 [==============================] - 34s 21ms/step - loss: 0.1215 - accuracy: 0.9660 - val_loss: 0.6595 - val_accuracy: 0.9362 - lr: 0.0010\n",
      "Epoch 4/15\n",
      "1594/1593 [==============================] - 34s 21ms/step - loss: 0.1072 - accuracy: 0.9694 - val_loss: 0.1452 - val_accuracy: 0.9818 - lr: 0.0010\n",
      "Epoch 5/15\n",
      "1594/1593 [==============================] - 34s 21ms/step - loss: 0.0960 - accuracy: 0.9737 - val_loss: 0.1349 - val_accuracy: 0.9831 - lr: 0.0010\n",
      "Epoch 6/15\n",
      "1594/1593 [==============================] - 34s 22ms/step - loss: 0.0894 - accuracy: 0.9761 - val_loss: 0.1042 - val_accuracy: 0.9851 - lr: 0.0010\n",
      "Epoch 7/15\n",
      "1594/1593 [==============================] - 34s 22ms/step - loss: 0.0794 - accuracy: 0.9795 - val_loss: 0.1896 - val_accuracy: 0.9787 - lr: 0.0010\n",
      "Epoch 8/15\n",
      "1594/1593 [==============================] - 34s 21ms/step - loss: 0.0776 - accuracy: 0.9805 - val_loss: 0.1030 - val_accuracy: 0.9893 - lr: 0.0010\n",
      "Epoch 9/15\n",
      "1594/1593 [==============================] - 33s 21ms/step - loss: 0.0708 - accuracy: 0.9816 - val_loss: 0.2109 - val_accuracy: 0.9789 - lr: 0.0010\n",
      "Epoch 10/15\n",
      "1594/1593 [==============================] - 33s 21ms/step - loss: 0.0713 - accuracy: 0.9817 - val_loss: 0.4109 - val_accuracy: 0.9467 - lr: 0.0010\n",
      "Epoch 11/15\n",
      "1593/1593 [============================>.] - ETA: 0s - loss: 0.0675 - accuracy: 0.9829\n",
      "Epoch 00011: ReduceLROnPlateau reducing learning rate to 0.00010000000474974513.\n",
      "1594/1593 [==============================] - 33s 21ms/step - loss: 0.0677 - accuracy: 0.9829 - val_loss: 0.1446 - val_accuracy: 0.9853 - lr: 0.0010\n",
      "Epoch 12/15\n",
      "1594/1593 [==============================] - 33s 21ms/step - loss: 0.0455 - accuracy: 0.9882 - val_loss: 0.0872 - val_accuracy: 0.9890 - lr: 1.0000e-04\n",
      "Epoch 13/15\n",
      "1594/1593 [==============================] - 33s 21ms/step - loss: 0.0401 - accuracy: 0.9894 - val_loss: 0.1016 - val_accuracy: 0.9887 - lr: 1.0000e-04\n",
      "Epoch 14/15\n",
      "1594/1593 [==============================] - 32s 20ms/step - loss: 0.0387 - accuracy: 0.9897 - val_loss: 0.1585 - val_accuracy: 0.9828 - lr: 1.0000e-04\n",
      "Epoch 15/15\n",
      "1594/1593 [==============================] - ETA: 0s - loss: 0.0365 - accuracy: 0.9906\n",
      "Epoch 00015: ReduceLROnPlateau reducing learning rate to 0.0001.\n",
      "1594/1593 [==============================] - 33s 20ms/step - loss: 0.0365 - accuracy: 0.9906 - val_loss: 0.1036 - val_accuracy: 0.9849 - lr: 1.0000e-04\n"
     ]
    }
   ],
   "source": [
    "# Fitting the model\n",
    "history = model.fit(datagen.flow(x_train, y_train, batch_size = BATCH_SIZE), steps_per_epoch = len(x_train) / BATCH_SIZE, epochs = EPOCHS, validation_data = (x_val, y_val), callbacks = [tensorboard, csvlogger, reduce_lr])"
   ]
  },
  {
   "cell_type": "code",
   "execution_count": null,
   "metadata": {},
   "outputs": [],
   "source": [
    "# Saving the entire model\n",
    "model.save(\"model/m.model\")"
   ]
  },
  {
   "cell_type": "code",
   "execution_count": 0,
   "metadata": {
    "colab": {},
    "colab_type": "code",
    "id": "L7TkkuCQPij4"
   },
   "outputs": [],
   "source": [
    "# Saving the model weights\n",
    "model.save(\"model/CNN_MNIST.h5\")"
   ]
  },
  {
   "cell_type": "code",
   "execution_count": null,
   "metadata": {},
   "outputs": [],
   "source": [
    "# Loading TensorBoard\n",
    "%tensorboard --logdir logs"
   ]
  },
  {
   "cell_type": "markdown",
   "metadata": {},
   "source": [
    "### Testing the Trained CNN Model"
   ]
  },
  {
   "cell_type": "code",
   "execution_count": 0,
   "metadata": {
    "colab": {},
    "colab_type": "code",
    "id": "IHtAIZFNP9_U"
   },
   "outputs": [],
   "source": [
    "# Loading Model\n",
    "loaded_model = load_model('model/m.model')"
   ]
  },
  {
   "cell_type": "code",
   "execution_count": 0,
   "metadata": {
    "colab": {},
    "colab_type": "code",
    "id": "4gPb4PYYQwKY"
   },
   "outputs": [],
   "source": [
    "# Predicting on testing data\n",
    "predictions = loaded_model.predict(test_data)"
   ]
  },
  {
   "cell_type": "code",
   "execution_count": 0,
   "metadata": {
    "colab": {},
    "colab_type": "code",
    "id": "v0qse7XbQ1Mj"
   },
   "outputs": [],
   "source": [
    "# Counting the number of wrong predictions\n",
    "count = 0\n",
    "for i in range(len(test_data)):\n",
    "  guess = np.argmax(predictions[i])\n",
    "  actual = np.argmax(test_labels[i])\n",
    "  if guess != actual:\n",
    "    count += 1"
   ]
  },
  {
   "cell_type": "code",
   "execution_count": 83,
   "metadata": {
    "colab": {
     "base_uri": "https://localhost:8080/",
     "height": 34
    },
    "colab_type": "code",
    "id": "Paf9LSzSRSyn",
    "outputId": "fc7def95-d29b-40e1-c51a-28581539746d"
   },
   "outputs": [
    {
     "name": "stdout",
     "output_type": "stream",
     "text": [
      "Accuracy on testing data = 98.96 %\n"
     ]
    }
   ],
   "source": [
    "# Test Accuracy\n",
    "print(\"Accuracy on testing data = {:3.2f} %\".format((100 * (len(test_data) - count) / len(test_data))))"
   ]
  }
 ],
 "metadata": {
  "accelerator": "GPU",
  "colab": {
   "name": "MNIST.ipynb",
   "provenance": []
  },
  "kernelspec": {
   "display_name": "Python 3",
   "language": "python",
   "name": "python3"
  },
  "language_info": {
   "codemirror_mode": {
    "name": "ipython",
    "version": 3
   },
   "file_extension": ".py",
   "mimetype": "text/x-python",
   "name": "python",
   "nbconvert_exporter": "python",
   "pygments_lexer": "ipython3",
   "version": "3.7.4"
  }
 },
 "nbformat": 4,
 "nbformat_minor": 1
}
